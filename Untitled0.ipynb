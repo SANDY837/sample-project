{
  "nbformat": 4,
  "nbformat_minor": 0,
  "metadata": {
    "colab": {
      "provenance": [],
      "authorship_tag": "ABX9TyMJgSpsswHTQYxy4vK6MgkU",
      "include_colab_link": true
    },
    "kernelspec": {
      "name": "python3",
      "display_name": "Python 3"
    },
    "language_info": {
      "name": "python"
    }
  },
  "cells": [
    {
      "cell_type": "markdown",
      "metadata": {
        "id": "view-in-github",
        "colab_type": "text"
      },
      "source": [
        "<a href=\"https://colab.research.google.com/github/SANDY837/sample-project/blob/main/Untitled0.ipynb\" target=\"_parent\"><img src=\"https://colab.research.google.com/assets/colab-badge.svg\" alt=\"Open In Colab\"/></a>"
      ]
    },
    {
      "cell_type": "code",
      "source": [
        "import ctypes"
      ],
      "metadata": {
        "id": "D2p222bzUvYT"
      },
      "execution_count": 25,
      "outputs": []
    },
    {
      "cell_type": "code",
      "source": [
        "class MeraList:\n",
        "  def __init__(self):\n",
        "    self.size=1\n",
        "    self.n=0\n",
        "\n",
        "    # crete a C type array with size =self.size\n",
        "\n",
        "    self.A = self.__make_array(self.size)\n",
        "  # for length\n",
        "  def __len__(self):\n",
        "    return self.n\n",
        "  # for printing\n",
        "  def __str__(self):\n",
        "    result=''\n",
        "    for i in range(self.n):\n",
        "      result=result+str(self.A[i]) + ','\n",
        "\n",
        "    return '['+ result[:-1] +']'\n",
        "  # for index\n",
        "  def __getitem__(self,index):\n",
        "    if 0<=index<self.n:\n",
        "      return self.A[index]\n",
        "    else:\n",
        "      print(\"index out of range\")\n",
        "  def __delitem__(self,pos):\n",
        "    #delete\n",
        "    if 0<=pos<self.n:\n",
        "      for i in range(pos,self.n-1):\n",
        "        self.A[i]=self.A[i+1]\n",
        "\n",
        "      self.n = self.n -1\n",
        "    else:\n",
        "      print(\"index out of range\")\n",
        "  \n",
        "  def append(self,item):\n",
        "    if self.n==self.size:\n",
        "      #resize\n",
        "      self.__resize(self.size*2)\n",
        "    #append\n",
        "    self.A[self.n]=item\n",
        "    self.n=self.n+1\n",
        "  \n",
        "  \n",
        "  \n",
        "  def pop(self):\n",
        "    if self.n==0:\n",
        "      return \"Empty List\"\n",
        "    print(self.A[self.n-1])\n",
        "    self.n=self.n-1\n",
        "\n",
        "  def clear(self):\n",
        "    self.size=1\n",
        "    self.n=0\n",
        "  \n",
        "  def find(self,item):\n",
        "    for i in range(self.n):\n",
        "      if self.A[i]==item:\n",
        "        return i\n",
        "    return \"ValueError - not in list\"\n",
        "  \n",
        "  def insert(self,pos,item):\n",
        "    if self.n==self.size:\n",
        "      self.__resize(self.size*2)\n",
        "      for i in range(self.n,pos,-1):\n",
        "        self.A[i]=self.A[i-1]\n",
        "      \n",
        "      self.A[pos]=item\n",
        "      self.n=self.n+1\n",
        "    else:\n",
        "      return \"IndexError\"\n",
        "\n",
        "  def remove(self,item):\n",
        "    pos=self.find(item)\n",
        "    if type(pos)==int:\n",
        "      self.__delitem__(pos)\n",
        "    else:\n",
        "      return pos\n",
        "  def __resize(self,new_capacity):\n",
        "    # create a new array with new capacity\n",
        "    B=self.__make_array(new_capacity)\n",
        "    self.size=new_capacity\n",
        "    # copy the content of A to B\n",
        "    for i in range(self.n):\n",
        "      B[i]=self.A[i]\n",
        "    # reassign A\n",
        "    self.A=B\n",
        "\n",
        "  def __make_array(self,capacity):\n",
        "    # create a c type array(static,referential) with size capacity\n",
        "    return (capacity*ctypes.py_object)()"
      ],
      "metadata": {
        "id": "KiU2JUvKPTTY"
      },
      "execution_count": 144,
      "outputs": []
    },
    {
      "cell_type": "code",
      "source": [
        "L=MeraList()"
      ],
      "metadata": {
        "id": "6T_KV62iVFvk"
      },
      "execution_count": 145,
      "outputs": []
    },
    {
      "cell_type": "code",
      "source": [
        "L.append(\"Hello\")\n",
        "L.append(3)\n",
        "L.append(10.2)\n",
        "L.append(\"sandeep\")\n",
        "L.append(True)"
      ],
      "metadata": {
        "id": "Gk6KbOPuoaO-"
      },
      "execution_count": 146,
      "outputs": []
    },
    {
      "cell_type": "code",
      "source": [
        "L.remove(True)"
      ],
      "metadata": {
        "id": "MOEB1eWBxVy8"
      },
      "execution_count": 147,
      "outputs": []
    },
    {
      "cell_type": "code",
      "source": [
        "del L[300]"
      ],
      "metadata": {
        "colab": {
          "base_uri": "https://localhost:8080/"
        },
        "id": "VBjqhqG0uWb5",
        "outputId": "096bb69a-7161-43d1-bad1-c08adcfe4bcb"
      },
      "execution_count": 141,
      "outputs": [
        {
          "output_type": "stream",
          "name": "stdout",
          "text": [
            "index out of range\n"
          ]
        }
      ]
    },
    {
      "cell_type": "code",
      "source": [
        "print(L)"
      ],
      "metadata": {
        "colab": {
          "base_uri": "https://localhost:8080/"
        },
        "id": "e1rrR2MnuaLl",
        "outputId": "fc298707-689e-4777-dbe6-05dd802f7fb6"
      },
      "execution_count": 148,
      "outputs": [
        {
          "output_type": "stream",
          "name": "stdout",
          "text": [
            "[Hello,3,10.2,sandeep]\n"
          ]
        }
      ]
    },
    {
      "cell_type": "code",
      "source": [
        "L.insert(0,0)"
      ],
      "metadata": {
        "id": "TXATsmONskQa"
      },
      "execution_count": 118,
      "outputs": []
    },
    {
      "cell_type": "code",
      "source": [
        "print(L)"
      ],
      "metadata": {
        "colab": {
          "base_uri": "https://localhost:8080/"
        },
        "id": "uy-YXm_Ws1tj",
        "outputId": "f5038c2a-97bf-4719-abd9-7d2338608abc"
      },
      "execution_count": 119,
      "outputs": [
        {
          "output_type": "stream",
          "name": "stdout",
          "text": [
            "[0,Hello,3,10.2,sandeep,True]\n"
          ]
        }
      ]
    },
    {
      "cell_type": "code",
      "source": [
        "L.find('sandeep')"
      ],
      "metadata": {
        "colab": {
          "base_uri": "https://localhost:8080/"
        },
        "id": "2Rx06Zv0qgEn",
        "outputId": "8286fc6a-f60d-430a-c3f9-21049b2a60ff"
      },
      "execution_count": 107,
      "outputs": [
        {
          "output_type": "execute_result",
          "data": {
            "text/plain": [
              "3"
            ]
          },
          "metadata": {},
          "execution_count": 107
        }
      ]
    },
    {
      "cell_type": "code",
      "source": [
        "L.clear()"
      ],
      "metadata": {
        "id": "iYZcI--EpanE"
      },
      "execution_count": 100,
      "outputs": []
    },
    {
      "cell_type": "code",
      "source": [
        "L.pop()"
      ],
      "metadata": {
        "colab": {
          "base_uri": "https://localhost:8080/",
          "height": 35
        },
        "id": "P90INPv0om7c",
        "outputId": "abcbc365-de4a-4ce0-a8a3-f58c3f41ea5a"
      },
      "execution_count": 88,
      "outputs": [
        {
          "output_type": "execute_result",
          "data": {
            "text/plain": [
              "'Empty List'"
            ],
            "application/vnd.google.colaboratory.intrinsic+json": {
              "type": "string"
            }
          },
          "metadata": {},
          "execution_count": 88
        }
      ]
    },
    {
      "cell_type": "code",
      "source": [
        "print(L)"
      ],
      "metadata": {
        "colab": {
          "base_uri": "https://localhost:8080/"
        },
        "id": "eAqvXNi1oo7k",
        "outputId": "ec17325d-9189-4691-8bc5-210e53c27519"
      },
      "execution_count": 85,
      "outputs": [
        {
          "output_type": "stream",
          "name": "stdout",
          "text": [
            "[Hello,3]\n"
          ]
        }
      ]
    },
    {
      "cell_type": "code",
      "source": [],
      "metadata": {
        "id": "-NKNa0Sdoo-b"
      },
      "execution_count": null,
      "outputs": []
    },
    {
      "cell_type": "code",
      "source": [],
      "metadata": {
        "id": "kvP24NMBopB6"
      },
      "execution_count": null,
      "outputs": []
    },
    {
      "cell_type": "code",
      "source": [
        "type(L)"
      ],
      "metadata": {
        "colab": {
          "base_uri": "https://localhost:8080/"
        },
        "id": "lRf_ZbGeVIwe",
        "outputId": "8ddf3f5d-8212-469f-fddd-aac289a7a80d"
      },
      "execution_count": 28,
      "outputs": [
        {
          "output_type": "execute_result",
          "data": {
            "text/plain": [
              "__main__.MeraList"
            ]
          },
          "metadata": {},
          "execution_count": 28
        }
      ]
    },
    {
      "cell_type": "markdown",
      "source": [],
      "metadata": {
        "id": "knFcts6OoZmp"
      }
    },
    {
      "cell_type": "code",
      "source": [
        "l=[1,2,3]\n",
        "len(l),l[0]"
      ],
      "metadata": {
        "colab": {
          "base_uri": "https://localhost:8080/"
        },
        "id": "31VzYN0nWcHL",
        "outputId": "d88dee15-8077-44d8-c985-84473e9067ea"
      },
      "execution_count": 65,
      "outputs": [
        {
          "output_type": "execute_result",
          "data": {
            "text/plain": [
              "(3, 1)"
            ]
          },
          "metadata": {},
          "execution_count": 65
        }
      ]
    },
    {
      "cell_type": "code",
      "source": [
        "l.pop()"
      ],
      "metadata": {
        "colab": {
          "base_uri": "https://localhost:8080/"
        },
        "id": "zQywn5VenDRs",
        "outputId": "b07e20cb-1f08-49d4-a096-47be108749a2"
      },
      "execution_count": 76,
      "outputs": [
        {
          "output_type": "execute_result",
          "data": {
            "text/plain": [
              "3"
            ]
          },
          "metadata": {},
          "execution_count": 76
        }
      ]
    },
    {
      "cell_type": "code",
      "source": [
        "len(L)"
      ],
      "metadata": {
        "colab": {
          "base_uri": "https://localhost:8080/"
        },
        "id": "JKQVK6rjWgyv",
        "outputId": "3e15c71a-458c-4a18-c948-afa604d2e512"
      },
      "execution_count": 30,
      "outputs": [
        {
          "output_type": "execute_result",
          "data": {
            "text/plain": [
              "0"
            ]
          },
          "metadata": {},
          "execution_count": 30
        }
      ]
    },
    {
      "cell_type": "code",
      "source": [],
      "metadata": {
        "id": "HkwXpaGPWkcj"
      },
      "execution_count": 69,
      "outputs": []
    },
    {
      "cell_type": "code",
      "source": [
        "print(L)"
      ],
      "metadata": {
        "colab": {
          "base_uri": "https://localhost:8080/"
        },
        "id": "Ll0wsfR9iw7C",
        "outputId": "b6690d06-dba4-43e4-f7e7-938087b3c24f"
      },
      "execution_count": 70,
      "outputs": [
        {
          "output_type": "stream",
          "name": "stdout",
          "text": [
            "[Hello,3]\n"
          ]
        }
      ]
    },
    {
      "cell_type": "code",
      "source": [
        "len(L)"
      ],
      "metadata": {
        "colab": {
          "base_uri": "https://localhost:8080/"
        },
        "id": "YnNadQmIizJp",
        "outputId": "d9021073-0081-431d-df36-5f8beaf7a613"
      },
      "execution_count": 71,
      "outputs": [
        {
          "output_type": "execute_result",
          "data": {
            "text/plain": [
              "2"
            ]
          },
          "metadata": {},
          "execution_count": 71
        }
      ]
    },
    {
      "cell_type": "code",
      "source": [
        "L[11]"
      ],
      "metadata": {
        "colab": {
          "base_uri": "https://localhost:8080/"
        },
        "id": "6xx8XzUNjfR2",
        "outputId": "5ff0201d-b1bd-47a9-96a6-56799d9902ce"
      },
      "execution_count": 74,
      "outputs": [
        {
          "output_type": "stream",
          "name": "stdout",
          "text": [
            "index out of range\n"
          ]
        }
      ]
    },
    {
      "cell_type": "code",
      "source": [
        "l"
      ],
      "metadata": {
        "colab": {
          "base_uri": "https://localhost:8080/"
        },
        "id": "GIP2YtghlWs_",
        "outputId": "8ae718a2-99b4-487c-cadc-19b58f9ef570"
      },
      "execution_count": 90,
      "outputs": [
        {
          "output_type": "execute_result",
          "data": {
            "text/plain": [
              "[1, 2]"
            ]
          },
          "metadata": {},
          "execution_count": 90
        }
      ]
    },
    {
      "cell_type": "code",
      "source": [
        "l.clear()"
      ],
      "metadata": {
        "id": "434gGc30o6_s"
      },
      "execution_count": 91,
      "outputs": []
    },
    {
      "cell_type": "code",
      "source": [
        "l"
      ],
      "metadata": {
        "colab": {
          "base_uri": "https://localhost:8080/"
        },
        "id": "jiTfG6MZo_NB",
        "outputId": "5081bea0-8783-4b1c-f75b-17e5dd369056"
      },
      "execution_count": 92,
      "outputs": [
        {
          "output_type": "execute_result",
          "data": {
            "text/plain": [
              "[]"
            ]
          },
          "metadata": {},
          "execution_count": 92
        }
      ]
    },
    {
      "cell_type": "code",
      "source": [
        "l=[1,2,3,4]"
      ],
      "metadata": {
        "id": "fFnsT1V0pAbQ"
      },
      "execution_count": 122,
      "outputs": []
    },
    {
      "cell_type": "code",
      "source": [
        "l.index(2)"
      ],
      "metadata": {
        "colab": {
          "base_uri": "https://localhost:8080/"
        },
        "id": "ZQkC4VrepozZ",
        "outputId": "98acfc01-4b1b-4cbe-ce68-de2887e3e50a"
      },
      "execution_count": 102,
      "outputs": [
        {
          "output_type": "execute_result",
          "data": {
            "text/plain": [
              "1"
            ]
          },
          "metadata": {},
          "execution_count": 102
        }
      ]
    },
    {
      "cell_type": "code",
      "source": [
        "l.index(10)"
      ],
      "metadata": {
        "colab": {
          "base_uri": "https://localhost:8080/",
          "height": 166
        },
        "id": "LPeGY7kFprXR",
        "outputId": "d3164638-e2a9-4f7e-9e16-26dfc2339a1d"
      },
      "execution_count": 103,
      "outputs": [
        {
          "output_type": "error",
          "ename": "ValueError",
          "evalue": "ignored",
          "traceback": [
            "\u001b[0;31m---------------------------------------------------------------------------\u001b[0m",
            "\u001b[0;31mValueError\u001b[0m                                Traceback (most recent call last)",
            "\u001b[0;32m<ipython-input-103-4eef58eab0b3>\u001b[0m in \u001b[0;36m<cell line: 1>\u001b[0;34m()\u001b[0m\n\u001b[0;32m----> 1\u001b[0;31m \u001b[0ml\u001b[0m\u001b[0;34m.\u001b[0m\u001b[0mindex\u001b[0m\u001b[0;34m(\u001b[0m\u001b[0;36m10\u001b[0m\u001b[0;34m)\u001b[0m\u001b[0;34m\u001b[0m\u001b[0;34m\u001b[0m\u001b[0m\n\u001b[0m",
            "\u001b[0;31mValueError\u001b[0m: 10 is not in list"
          ]
        }
      ]
    },
    {
      "cell_type": "code",
      "source": [
        "l.insert(1,13)"
      ],
      "metadata": {
        "id": "x6cI46sbptxc"
      },
      "execution_count": 109,
      "outputs": []
    },
    {
      "cell_type": "code",
      "source": [
        "l"
      ],
      "metadata": {
        "colab": {
          "base_uri": "https://localhost:8080/"
        },
        "id": "xO1fAiq_qztb",
        "outputId": "e1071a0c-f358-4027-e781-61b9b2ca84d5"
      },
      "execution_count": 110,
      "outputs": [
        {
          "output_type": "execute_result",
          "data": {
            "text/plain": [
              "[1, 13, 2, 3, 4]"
            ]
          },
          "metadata": {},
          "execution_count": 110
        }
      ]
    },
    {
      "cell_type": "code",
      "source": [
        "del l"
      ],
      "metadata": {
        "id": "two1O_aOq2RC"
      },
      "execution_count": 120,
      "outputs": []
    },
    {
      "cell_type": "code",
      "source": [
        "del l[0]"
      ],
      "metadata": {
        "id": "YlPT7iiws6ID"
      },
      "execution_count": 124,
      "outputs": []
    },
    {
      "cell_type": "code",
      "source": [
        "l"
      ],
      "metadata": {
        "colab": {
          "base_uri": "https://localhost:8080/"
        },
        "id": "ePgMUIogs7_k",
        "outputId": "e9934c88-0be9-4298-aa1f-c583da67573c"
      },
      "execution_count": 125,
      "outputs": [
        {
          "output_type": "execute_result",
          "data": {
            "text/plain": [
              "[2, 3, 4]"
            ]
          },
          "metadata": {},
          "execution_count": 125
        }
      ]
    },
    {
      "cell_type": "code",
      "source": [
        "l.remove(2)"
      ],
      "metadata": {
        "id": "AWWMoZs0tDO2"
      },
      "execution_count": 142,
      "outputs": []
    },
    {
      "cell_type": "code",
      "source": [
        "l"
      ],
      "metadata": {
        "colab": {
          "base_uri": "https://localhost:8080/"
        },
        "id": "BM08xs-ovVkR",
        "outputId": "0cceec65-378d-4477-ce54-028a0f8fa6ab"
      },
      "execution_count": 143,
      "outputs": [
        {
          "output_type": "execute_result",
          "data": {
            "text/plain": [
              "[3, 4]"
            ]
          },
          "metadata": {},
          "execution_count": 143
        }
      ]
    },
    {
      "cell_type": "code",
      "source": [],
      "metadata": {
        "id": "tgO1fCZKvWrE"
      },
      "execution_count": null,
      "outputs": []
    }
  ]
}